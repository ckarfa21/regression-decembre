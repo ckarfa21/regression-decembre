{
 "cells": [
  {
   "cell_type": "code",
   "execution_count": 2,
   "metadata": {},
   "outputs": [],
   "source": [
    "import pandas as pd # lecture de fichier\n",
    "import numpy as np # maths\n",
    "import matplotlib.pyplot as plt # affichage graphique\n"
   ]
  },
  {
   "cell_type": "code",
   "execution_count": 6,
   "metadata": {},
   "outputs": [],
   "source": [
    "#contenu du jeu de données\n",
    "reg_simple=pd.read_csv('reg_simple.csv',sep=',')\n",
    "reg_simple"
   ]
  },
  {
   "cell_type": "code",
   "execution_count": 7,
   "metadata": {},
   "outputs": [
    {
     "name": "stdout",
     "output_type": "stream",
     "text": [
      "colonnes : Index(['heure_rev', 'note'], dtype='object')  - nombre d'observations : 27\n"
     ]
    },
    {
     "data": {
      "image/png": "[encoded data removed]",
      "text/plain": [
       "<Figure size 432x288 with 1 Axes>"
      ]
     },
     "metadata": {
      "needs_background": "light"
     },
     "output_type": "display_data"
    }
   ],
   "source": [
    "# Visualisation des données\n",
    "nobs = len(reg_simple)\n",
    "print(\"colonnes :\", reg_simple.columns, \" - nombre d'observations :\", nobs)\n",
    "plt.scatter(reg_simple[\"heure_rev\"], reg_simple[\"note\"])\n",
    "plt.xlabel('nombre d\\'heures de révision')\n",
    "plt.ylabel('note')\n",
    "plt.show()\n"
   ]
  },
  {
   "cell_type": "code",
   "execution_count": 9,
   "metadata": {},
   "outputs": [],
   "source": [
    "# Création du modèle (model(X,theta))\n",
    "a = np.array(reg_simple)\n",
    "m = a.shape[0]\n",
    "x = a[:,0]\n",
    "x = x[:, np.newaxis]\n",
    "y = a[:,1]\n",
    "y = y[:, np.newaxis]\n",
    "X = np.hstack((x, np.ones(x.shape)))\n"
   ]
  },
  {
   "cell_type": "code",
   "execution_count": 10,
   "metadata": {},
   "outputs": [
    {
     "data": {
      "text/plain": [
       "array([[-0.61994283],\n",
       "       [-1.96004441]])"
      ]
     },
     "execution_count": 10,
     "metadata": {},
     "output_type": "execute_result"
    }
   ],
   "source": [
    "theta = np.random.randn(2,1)\n",
    "theta"
   ]
  },
  {
   "cell_type": "code",
   "execution_count": 11,
   "metadata": {},
   "outputs": [],
   "source": [
    "def model(X, theta):\n",
    "\treturn X.dot(theta)\n"
   ]
  },
  {
   "cell_type": "code",
   "execution_count": 12,
   "metadata": {},
   "outputs": [],
   "source": [
    "# Fonction du coût (fonction_cout(X,y,theta))\n",
    "def fonction_cout(X, y, theta):\n",
    "\treturn 1/(2*m) * np.sum((X.dot(theta) - y)**2)\n"
   ]
  },
  {
   "cell_type": "code",
   "execution_count": 13,
   "metadata": {},
   "outputs": [],
   "source": [
    "def gradient(X,y,theta):\n",
    "\treturn 1/m * X.T.dot(X.dot(theta) - y)"
   ]
  },
  {
   "cell_type": "code",
   "execution_count": 14,
   "metadata": {},
   "outputs": [],
   "source": [
    "# Descente du gradient (descente_gradient(X,y,theta,alpha,n_iterations))\n",
    "# 1°) Initialiser avec x0(au hasard) -- ok\n",
    "# 2°) Répéter theta(𝑡+1) = theta(𝑡) − alpha × ∇𝑓(theta(𝑡) \n",
    "# 3°)Jusqu’à convergence\n",
    "def descente_gradient(X,y,theta,alpha,n_iterations):\n",
    "\tfor i in range(n_iterations): #2°\n",
    "\t\ttheta = theta - alpha*gradient(X, y, theta)\n",
    "\treturn theta"
   ]
  },
  {
   "cell_type": "code",
   "execution_count": 16,
   "metadata": {},
   "outputs": [
    {
     "name": "stdout",
     "output_type": "stream",
     "text": [
      "[[ 3.44147239]\n",
      " [-1.52355911]]\n",
      "[[ 3.45192302]\n",
      " [-1.72631572]]\n",
      "[[ 3.43100983]\n",
      " [-1.32057318]]\n",
      "[[ 3.37824403]\n",
      " [-0.29685452]]\n"
     ]
    }
   ],
   "source": [
    "theta1 = descente_gradient(X, y, theta, 0.001, 500)\n",
    "print(theta1) # a = 3.393 ; b = -0.581\n",
    "theta2 = descente_gradient(X, y, theta, 0.001, 50)\n",
    "print(theta2) # a = 3.398 ; b = -0.687\n",
    "theta3 = descente_gradient(X, y, theta, 0.0001, 10000)\n",
    "print(theta3) # a = 3.403 ; b = -0.779\n",
    "theta4 = descente_gradient(X, y, theta, 0.005, 1000)\n",
    "print(theta4) # a = 3.360 ; b = -0.007"
   ]
  },
  {
   "cell_type": "code",
   "execution_count": 17,
   "metadata": {},
   "outputs": [
    {
     "data": {
      "image/png": "[encoded data removed]",
      "text/plain": [
       "<Figure size 432x288 with 1 Axes>"
      ]
     },
     "metadata": {
      "needs_background": "light"
     },
     "output_type": "display_data"
    }
   ],
   "source": [
    "plt.plot(x, model(X, theta1))\n",
    "plt.plot(x, model(X, theta2))\n",
    "plt.plot(x, model(X, theta4))\n",
    "plt.scatter(x, y)\n",
    "plt.show()\n"
   ]
  },
  {
   "cell_type": "code",
   "execution_count": 18,
   "metadata": {},
   "outputs": [
    {
     "name": "stdout",
     "output_type": "stream",
     "text": [
      "10.307979097236426\n",
      "10.39964213103433\n",
      "10.225263647598446\n",
      "9.946115740546103\n",
      "[[ 3.37824403]\n",
      " [-0.29685452]]\n"
     ]
    }
   ],
   "source": [
    "print(fonction_cout(X, y, theta1))\n",
    "print(fonction_cout(X, y, theta2))\n",
    "print(fonction_cout(X, y, theta3))\n",
    "print(fonction_cout(X, y, theta4)) \n",
    "\n",
    "### la fonction coût est la plus faible pour theta4 : ce sont les meilleurs paramètres\n",
    "print(theta4)\n"
   ]
  },
  {
   "cell_type": "code",
   "execution_count": 20,
   "metadata": {},
   "outputs": [
    {
     "name": "stdout",
     "output_type": "stream",
     "text": [
      "0.9731628819289049\n"
     ]
    }
   ],
   "source": [
    "# Evaluer votre modèle en utilisant le coefficient de détermination\n",
    "\n",
    "\n",
    "def r2(X, y, y_pred): \n",
    "\treturn 1 - (np.sum((y - y_pred)**2) / np.sum((y - np.mean(y))**2))\n",
    "\n",
    "y_pred = model(X, theta4)\n",
    "\n",
    "print(r2(X, y, y_pred)) # 0.9731628819289049\n",
    "\n",
    "\n"
   ]
  },
  {
   "cell_type": "code",
   "execution_count": null,
   "metadata": {},
   "outputs": [],
   "source": []
  }
 ],
 "metadata": {
  "kernelspec": {
   "display_name": "Python 3",
   "language": "python",
   "name": "python3"
  },
  "language_info": {
   "codemirror_mode": {
    "name": "ipython",
    "version": 3
   },
   "file_extension": ".py",
   "mimetype": "text/x-python",
   "name": "python",
   "nbconvert_exporter": "python",
   "pygments_lexer": "ipython3",
   "version": "3.7.6"
  }
 },
 "nbformat": 4,
 "nbformat_minor": 4
}
