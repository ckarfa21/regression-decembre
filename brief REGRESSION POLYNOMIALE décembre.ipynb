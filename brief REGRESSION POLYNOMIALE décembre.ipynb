{
 "cells": [
  {
   "cell_type": "code",
   "execution_count": 1,
   "metadata": {},
   "outputs": [],
   "source": [
    "import pandas as pd\n",
    "import numpy as np\n",
    "import matplotlib.pyplot as plt\n"
   ]
  },
  {
   "cell_type": "code",
   "execution_count": 9,
   "metadata": {},
   "outputs": [],
   "source": [
    "sal=pd.read_csv('position_salaries.csv',sep=',')\n",
    "#salaries\n"
   ]
  },
  {
   "cell_type": "code",
   "execution_count": 7,
   "metadata": {},
   "outputs": [],
   "source": [
    "qualite=pd.read_csv('qualite-vin-rouge.csv',sep=',')\n",
    "#qualite"
   ]
  },
  {
   "cell_type": "code",
   "execution_count": 10,
   "metadata": {},
   "outputs": [
    {
     "name": "stdout",
     "output_type": "stream",
     "text": [
      "(10, 3)\n",
      "            Position  Level  Salary\n",
      "0   Project Analyste      1   45000\n",
      "1          Ingenieur      2   50000\n",
      "2  Senior Consultant      3   60000\n",
      "3            Manager      4   80000\n",
      "4    Country Manager      5  110000\n"
     ]
    }
   ],
   "source": [
    "print(sal.shape) # (10, 3)\n",
    "print(sal.head(5))"
   ]
  },
  {
   "cell_type": "code",
   "execution_count": 11,
   "metadata": {},
   "outputs": [
    {
     "name": "stdout",
     "output_type": "stream",
     "text": [
      "(10, 2) (10, 1)\n"
     ]
    }
   ],
   "source": [
    "y_simple = sal.iloc[:,-1:].values\n",
    "x_simple = sal.iloc[:,1:2].values\n",
    "\n",
    "X_simple = np.hstack((x_simple, np.ones(y_simple.shape)))\n",
    "m = X_simple.shape[0]\n",
    "\n",
    "print(X_simple.shape, y_simple.shape) # (10, 2) (10, 1) >> donc theta(2,1)\n",
    "\n",
    "theta_simple = np.random.rand(2,1)\n"
   ]
  },
  {
   "cell_type": "code",
   "execution_count": 12,
   "metadata": {},
   "outputs": [],
   "source": [
    "# Création du modèle (model(X,theta)) \n",
    "def model(X, theta):\n",
    "\treturn X.dot(theta)\n",
    "\n",
    "# Fonction du coût (fonction_cout(X,y,theta))\n",
    "def fonction_cout(X, y, theta):\n",
    "\treturn 1/(2*m) * np.sum((model(X, theta) - y)**2)\n",
    "\n",
    "# Le gradient (gradient(X,y,theta))\n",
    "def gradient(X,y,theta):\n",
    "\treturn 1/m * X.T.dot(model(X, theta) - y)\n",
    "\n",
    "# Descente du gradient (descente_gradient(X,y,theta,alpha,n_iterations))\n",
    "def descente_gradient(X,y,theta,alpha,n_iterations):\n",
    "\tfor i in range(n_iterations): \n",
    "\t\ttheta = theta - alpha*gradient(X, y, theta)\n",
    "\treturn theta\n"
   ]
  },
  {
   "cell_type": "code",
   "execution_count": 13,
   "metadata": {},
   "outputs": [
    {
     "name": "stdout",
     "output_type": "stream",
     "text": [
      "coût theta1 13887442030.575123\n",
      "coût theta2 15551164401.61497\n",
      "coût theta3 13623376605.113693\n"
     ]
    }
   ],
   "source": [
    "theta1 = descente_gradient(X_simple, y_simple, theta_simple, 0.001, 5000)\n",
    "theta2 = descente_gradient(X_simple, y_simple, theta_simple, 0.0005, 3300)\n",
    "theta3 = descente_gradient(X_simple, y_simple, theta_simple, 0.002, 3300)\n",
    "\n",
    "print(\"coût theta1\", fonction_cout(X_simple, y_simple, theta1)) # 13887443684.61673\n",
    "print(\"coût theta2\", fonction_cout(X_simple, y_simple, theta2)) # 15551171156.402779\n",
    "print(\"coût theta3\", fonction_cout(X_simple, y_simple, theta3)) # 13623377449.566662\n",
    "\n",
    "# >> Le modèle linéaire n'est pas pertinent.\n"
   ]
  },
  {
   "cell_type": "code",
   "execution_count": 14,
   "metadata": {},
   "outputs": [
    {
     "name": "stdout",
     "output_type": "stream",
     "text": [
      "[[ 1]\n",
      " [ 2]\n",
      " [ 3]\n",
      " [ 4]\n",
      " [ 5]\n",
      " [ 6]\n",
      " [ 7]\n",
      " [ 8]\n",
      " [ 9]\n",
      " [10]]\n",
      "[[  1]\n",
      " [  4]\n",
      " [  9]\n",
      " [ 16]\n",
      " [ 25]\n",
      " [ 36]\n",
      " [ 49]\n",
      " [ 64]\n",
      " [ 81]\n",
      " [100]]\n",
      "(10, 3) (10, 1)\n",
      "coût theta4 5604018901.522827\n",
      "coût theta5 5175119738.273569\n"
     ]
    }
   ],
   "source": [
    "## REGRESSION POLYNOMIALE ##\n",
    "\n",
    "y = sal.iloc[:,-1:].values\n",
    "x = sal.iloc[:,1:2].values\n",
    "x2 = x**2\n",
    "print(x)\n",
    "print(x2)\n",
    "X = np.hstack((x, x2))\n",
    "X = np.hstack((X, np.ones(y.shape)))\n",
    "m = X.shape[0]\n",
    "\n",
    "print(X.shape, y.shape) # (10, 3) (10, 1) >> donc theta(3,1)\n",
    "\n",
    "theta = np.random.rand(3,1)\n",
    "\n",
    "\n",
    "theta4 = descente_gradient(X, y, theta, 0.0001, 5000) # 5604016486.029838\n",
    "theta5 = descente_gradient(X, y, theta, 0.0005, 3300) # 5175117267.515817\n",
    "\n",
    "print(\"coût theta4\", fonction_cout(X, y, theta4)) # \n",
    "print(\"coût theta5\", fonction_cout(X, y, theta5)) # \n",
    "\n"
   ]
  },
  {
   "cell_type": "code",
   "execution_count": 15,
   "metadata": {},
   "outputs": [
    {
     "name": "stdout",
     "output_type": "stream",
     "text": [
      "(10, 4) (10, 1)\n",
      "coût theta6 nan\n"
     ]
    },
    {
     "name": "stderr",
     "output_type": "stream",
     "text": [
      "C:\\Users\\chris\\anaconda3\\lib\\site-packages\\ipykernel_launcher.py:16: RuntimeWarning: invalid value encountered in subtract\n",
      "  app.launch_new_instance()\n"
     ]
    },
    {
     "data": {
      "image/png": "[encoded data removed]",
      "text/plain": [
       "<Figure size 432x288 with 1 Axes>"
      ]
     },
     "metadata": {
      "needs_background": "light"
     },
     "output_type": "display_data"
    }
   ],
   "source": [
    "## REGRESSION POLYNOMIALE ##\n",
    "\n",
    "y3 = sal.iloc[:,-1:].values\n",
    "x = sal.iloc[:,1:2].values\n",
    "x2 = x**2\n",
    "x3 = x**3\n",
    "X3 = np.hstack((x, x2, x3, np.ones(y3.shape)))\n",
    "m = X3.shape[0]\n",
    "\n",
    "print(X3.shape, y3.shape) # (10, 4) (10, 1) >> donc theta(4,1)\n",
    "\n",
    "thetap3 = np.random.rand(4,1)\n",
    "\n",
    "\n",
    "theta6 = descente_gradient(X3, y3, thetap3, 0.0001, 5000) \n",
    "\n",
    "print(\"coût theta6\", fonction_cout(X3, y3, theta6)) # \n",
    "\n",
    "\n",
    "plt.scatter(sal[\"Level\"], sal[\"Salary\"])\n",
    "plt.xlabel('position')\n",
    "plt.ylabel('salaire')\n",
    "plt.plot(x_simple, model(X_simple, theta1))\n",
    "plt.plot(x,model(X, theta5))\n",
    "plt.plot(x3,model(X3, theta6))\n",
    "plt.show()"
   ]
  },
  {
   "cell_type": "code",
   "execution_count": null,
   "metadata": {},
   "outputs": [],
   "source": []
  }
 ],
 "metadata": {
  "kernelspec": {
   "display_name": "Python 3",
   "language": "python",
   "name": "python3"
  },
  "language_info": {
   "codemirror_mode": {
    "name": "ipython",
    "version": 3
   },
   "file_extension": ".py",
   "mimetype": "text/x-python",
   "name": "python",
   "nbconvert_exporter": "python",
   "pygments_lexer": "ipython3",
   "version": "3.7.6"
  }
 },
 "nbformat": 4,
 "nbformat_minor": 4
}
