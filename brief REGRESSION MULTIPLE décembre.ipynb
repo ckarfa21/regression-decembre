{
 "cells": [
  {
   "cell_type": "code",
   "execution_count": 1,
   "metadata": {},
   "outputs": [],
   "source": [
    "import pandas as pd\n",
    "import numpy as np\n",
    "import matplotlib.pyplot as plt\n",
    "\n",
    "from sklearn.metrics import mean_squared_error\n"
   ]
  },
  {
   "cell_type": "code",
   "execution_count": 2,
   "metadata": {},
   "outputs": [],
   "source": [
    "boston=pd.read_csv('boston_house_prices.csv',sep=',')"
   ]
  },
  {
   "cell_type": "code",
   "execution_count": 3,
   "metadata": {},
   "outputs": [
    {
     "name": "stdout",
     "output_type": "stream",
     "text": [
      "(506, 14)\n",
      "      CRIM    ZN  INDUS  CHAS    NOX     RM   AGE     DIS  RAD  TAX  PTRATIO  \\\n",
      "0  0.00632  18.0   2.31     0  0.538  6.575  65.2  4.0900    1  296     15.3   \n",
      "1  0.02731   0.0   7.07     0  0.469  6.421  78.9  4.9671    2  242     17.8   \n",
      "2  0.02729   0.0   7.07     0  0.469  7.185  61.1  4.9671    2  242     17.8   \n",
      "\n",
      "        B  LSTAT  MEDV  \n",
      "0  396.90   4.98  24.0  \n",
      "1  396.90   9.14  21.6  \n",
      "2  392.83   4.03  34.7  \n"
     ]
    }
   ],
   "source": [
    "# Visualisation des données\n",
    "print(boston.shape)\n",
    "print(boston.head(3))"
   ]
  },
  {
   "cell_type": "code",
   "execution_count": 4,
   "metadata": {},
   "outputs": [
    {
     "name": "stdout",
     "output_type": "stream",
     "text": [
      "CRIM -0.38830460858681154\n",
      "ZN 0.3604453424505432\n",
      "INDUS -0.4837251600283729\n",
      "CHAS 0.17526017719029843\n",
      "NOX -0.4273207723732826\n",
      "RM 0.6953599470715393\n",
      "AGE -0.3769545650045963\n",
      "DIS 0.24992873408590388\n",
      "RAD -0.381626230639778\n",
      "TAX -0.4685359335677669\n",
      "PTRATIO -0.5077866855375621\n",
      "B 0.33346081965706637\n",
      "LSTAT -0.7376627261740151\n",
      "MEDV 1.0\n"
     ]
    }
   ],
   "source": [
    "# y (target) : MEDV (dernière colonne) median value of owner-occupied homes in \\$1000s.\n",
    "# X (données) : CRIM, ZN, INDUS, CHAS, NOX, RM, AGE, DIS, RAD, TAX, PTRATIO, B, LSTAT (13 col)\n",
    "\n",
    "# calcul des correlation entre y et chacun des x :\n",
    "for col in boston.columns :\n",
    "\tprint(col, boston[col].corr(boston['MEDV']))\n"
   ]
  },
  {
   "cell_type": "code",
   "execution_count": 6,
   "metadata": {},
   "outputs": [
    {
     "name": "stdout",
     "output_type": "stream",
     "text": [
      "(506, 9) (506, 1)\n",
      "[[ 0.21195187]\n",
      " [-0.19931651]\n",
      " [-0.21255282]\n",
      " [-0.27458154]\n",
      " [-0.06582927]\n",
      " [-2.03011356]\n",
      " [-1.3924496 ]\n",
      " [ 0.86494207]\n",
      " [ 1.3997611 ]\n",
      " [-1.20106397]]\n",
      "(506, 10) (506, 1) (10, 1) 506\n"
     ]
    }
   ],
   "source": [
    "boston2 = boston[['CRIM', 'ZN', 'INDUS', 'NOX', 'RM', 'RAD', 'DIS', 'PTRATIO',  'LSTAT', 'MEDV']]\n",
    "\n",
    "y = boston2.iloc[:,-1:].values\n",
    "x = boston2.iloc[:,:-1].values\n",
    "print(x.shape, y.shape) # \n",
    "\n",
    "X = np.hstack((x, np.ones(y.shape)))\n",
    "\n",
    "theta = np.random.randn(10,1)\n",
    "print(theta)\n",
    "m = boston2.shape[0]\n",
    "\n",
    "print(X.shape, y.shape, theta.shape, m) # (506, 10) (506, 1) (10, 1) 506\n",
    "\n",
    "\n"
   ]
  },
  {
   "cell_type": "code",
   "execution_count": 7,
   "metadata": {},
   "outputs": [
    {
     "name": "stdout",
     "output_type": "stream",
     "text": [
      "[[ -61.65831764]\n",
      " [-423.61805823]\n",
      " [-182.48721733]\n",
      " [ -10.20443505]\n",
      " [-128.42744394]\n",
      " [-228.60464829]\n",
      " [ -82.44173493]\n",
      " [-343.82828547]\n",
      " [-155.66580417]\n",
      " [ -19.16266632]]\n"
     ]
    }
   ],
   "source": [
    "# Création du modèle (model(X,theta)) \n",
    "\n",
    "def modelmult(X, theta):\n",
    "\treturn X.dot(theta)\n",
    "# Fonction du coût (fonction_cout(X,y,theta))\n",
    "\n",
    "def fonction_cout(X, y, theta):\n",
    "\treturn 1/(2*m) * np.sum((modelmult(X, theta) - y)**2)\n",
    "\n",
    "# Le gradient (gradient(X,y,theta))\n",
    "\n",
    "def gradient(X,y,theta):\n",
    "\treturn 1/m * X.T.dot(modelmult(X, theta) - y)\n",
    "print(gradient(X, y, theta))\n",
    "# Descente du gradient (descente_gradient(X,y,theta,alpha,n_iterations))\n",
    "\n",
    "def descente_gradient(X,y,theta,alpha,n_iterations):\n",
    "\tfor i in range(n_iterations): \n",
    "\t\ttheta = theta - alpha*gradient(X, y, theta)\n",
    "\treturn theta\n",
    "\n"
   ]
  },
  {
   "cell_type": "code",
   "execution_count": 8,
   "metadata": {},
   "outputs": [
    {
     "name": "stdout",
     "output_type": "stream",
     "text": [
      "[[-0.11873478]\n",
      " [ 0.04437746]\n",
      " [-0.09048748]\n",
      " [ 0.04319869]\n",
      " [ 6.09947317]\n",
      " [-0.02248495]\n",
      " [-0.88122477]\n",
      " [-0.27892771]\n",
      " [-0.46910021]\n",
      " [-0.32849668]] 13.362093498271667\n",
      "[[-0.1252356 ]\n",
      " [ 0.07342601]\n",
      " [-0.08767312]\n",
      " [-0.00949529]\n",
      " [ 4.74582806]\n",
      " [-0.0550598 ]\n",
      " [-1.02276724]\n",
      " [ 0.28300324]\n",
      " [-0.55285034]\n",
      " [-0.68460392]] 14.430468086589796\n",
      "[[ -792819.63081505]\n",
      " [-3383857.34961022]\n",
      " [-1999477.3961496 ]\n",
      " [ -100231.73531581]\n",
      " [-1147420.91655573]\n",
      " [-1867663.53097042]\n",
      " [ -741552.35529703]\n",
      " [-3357210.97830254]\n",
      " [-2341332.07853732]\n",
      " [ -182286.41023562]] 1.9216774248348476e+16\n",
      "26.724186996543338\n",
      "28.860936173179596\n",
      "3.843354849669695e+16\n"
     ]
    }
   ],
   "source": [
    "theta1 = descente_gradient(X, y, theta, 0.001, 5000)\n",
    "theta2 = descente_gradient(X, y, theta, 0.0005, 3300)\n",
    "theta3 = descente_gradient(X, y, theta, 0.002, 1500)\n",
    "\n",
    "print(theta1, fonction_cout(X, y, theta1)) # 13.196\n",
    "print(theta2, fonction_cout(X, y, theta2)) # 14.115\n",
    "print(theta3, fonction_cout(X, y, theta3)) # 1050815795310118.4\n",
    "\n",
    "print(mean_squared_error(y, modelmult(X, theta1))) # 26.460\n",
    "print(mean_squared_error(y, modelmult(X, theta2))) # 28.035\n",
    "print(mean_squared_error(y, modelmult(X, theta3))) # 7594507303458618.0\n",
    "\n"
   ]
  },
  {
   "cell_type": "code",
   "execution_count": null,
   "metadata": {},
   "outputs": [],
   "source": []
  }
 ],
 "metadata": {
  "kernelspec": {
   "display_name": "Python 3",
   "language": "python",
   "name": "python3"
  },
  "language_info": {
   "codemirror_mode": {
    "name": "ipython",
    "version": 3
   },
   "file_extension": ".py",
   "mimetype": "text/x-python",
   "name": "python",
   "nbconvert_exporter": "python",
   "pygments_lexer": "ipython3",
   "version": "3.7.6"
  }
 },
 "nbformat": 4,
 "nbformat_minor": 4
}
